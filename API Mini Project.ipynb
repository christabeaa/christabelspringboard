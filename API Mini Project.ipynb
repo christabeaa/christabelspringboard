{
 "cells": [
  {
   "cell_type": "code",
   "execution_count": 6,
   "id": "7c1a0bce",
   "metadata": {},
   "outputs": [],
   "source": [
    "import requests\n",
    "import pandas as pd\n",
    "import matplotlib.pyplot as plt\n",
    "%matplotlib inline"
   ]
  },
  {
   "cell_type": "code",
   "execution_count": 7,
   "id": "d4f2ec9c",
   "metadata": {},
   "outputs": [],
   "source": [
    "latitude_london = 51.5074\n",
    "longitude_london = -0.1278\n",
    "latitude_seattle = 47.6062\n",
    "longitude_seattle = -122.3321\n",
    "\n",
    "start_date = '2022-01-01'\n",
    "end_date = '2022-12-31' \n",
    "\n",
    "hourly_variables = ['temperature_2m', 'relativehumidity_2m', 'precipitation']\n"
   ]
  },
  {
   "cell_type": "code",
   "execution_count": 8,
   "id": "a80c54cf",
   "metadata": {},
   "outputs": [],
   "source": [
    "base_url = 'https://archive-api.open-meteo.com/v1/archive'\n",
    "\n",
    "params_london = {\n",
    "    'latitude': latitude_london,\n",
    "    'longitude': longitude_london,\n",
    "    'start_date': start_date,\n",
    "    'end_date': end_date,\n",
    "    'hourly': ','.join(hourly_variables),\n",
    "    'timezone': 'Europe/London'\n",
    "}\n",
    "\n",
    "response_london = requests.get(base_url, params=params_london)"
   ]
  },
  {
   "cell_type": "code",
   "execution_count": 9,
   "id": "0e1fa6be",
   "metadata": {},
   "outputs": [
    {
     "name": "stdout",
     "output_type": "stream",
     "text": [
      "Data fetched successfully!\n"
     ]
    }
   ],
   "source": [
    "if response_london.status_code == 200:\n",
    "    print('Data fetched successfully!')\n",
    "else:\n",
    "    print(f'Failed to fetch data. Status code: {response_london.status_code}')"
   ]
  },
  {
   "cell_type": "code",
   "execution_count": 10,
   "id": "2ddbb02b",
   "metadata": {},
   "outputs": [],
   "source": [
    "\n",
    "\n",
    "params_seattle = {\n",
    "    'latitude': latitude_seattle,\n",
    "    'longitude': longitude_seattle,\n",
    "    'start_date': start_date,\n",
    "    'end_date': end_date,\n",
    "    'hourly': ','.join(hourly_variables),\n",
    "    'timezone': 'US/Pacific'\n",
    "}\n",
    "\n",
    "response_seattle = requests.get(base_url, params=params_seattle)"
   ]
  },
  {
   "cell_type": "code",
   "execution_count": 11,
   "id": "4bd1cfba",
   "metadata": {},
   "outputs": [
    {
     "name": "stdout",
     "output_type": "stream",
     "text": [
      "Data fetched successfully!\n"
     ]
    }
   ],
   "source": [
    "if response_seattle.status_code == 200:\n",
    "    print('Data fetched successfully!')\n",
    "else:\n",
    "    print(f'Failed to fetch data. Status code: {response_seattle.status_code}')"
   ]
  },
  {
   "cell_type": "code",
   "execution_count": 12,
   "id": "7b3a445a",
   "metadata": {},
   "outputs": [
    {
     "data": {
      "text/html": [
       "<div>\n",
       "<style scoped>\n",
       "    .dataframe tbody tr th:only-of-type {\n",
       "        vertical-align: middle;\n",
       "    }\n",
       "\n",
       "    .dataframe tbody tr th {\n",
       "        vertical-align: top;\n",
       "    }\n",
       "\n",
       "    .dataframe thead th {\n",
       "        text-align: right;\n",
       "    }\n",
       "</style>\n",
       "<table border=\"1\" class=\"dataframe\">\n",
       "  <thead>\n",
       "    <tr style=\"text-align: right;\">\n",
       "      <th></th>\n",
       "      <th>time</th>\n",
       "      <th>temperature_2m</th>\n",
       "      <th>relativehumidity_2m</th>\n",
       "      <th>precipitation</th>\n",
       "    </tr>\n",
       "  </thead>\n",
       "  <tbody>\n",
       "    <tr>\n",
       "      <th>0</th>\n",
       "      <td>2022-01-01T00:00</td>\n",
       "      <td>12.7</td>\n",
       "      <td>93</td>\n",
       "      <td>0.0</td>\n",
       "    </tr>\n",
       "    <tr>\n",
       "      <th>1</th>\n",
       "      <td>2022-01-01T01:00</td>\n",
       "      <td>12.8</td>\n",
       "      <td>93</td>\n",
       "      <td>0.0</td>\n",
       "    </tr>\n",
       "    <tr>\n",
       "      <th>2</th>\n",
       "      <td>2022-01-01T02:00</td>\n",
       "      <td>12.5</td>\n",
       "      <td>93</td>\n",
       "      <td>0.0</td>\n",
       "    </tr>\n",
       "    <tr>\n",
       "      <th>3</th>\n",
       "      <td>2022-01-01T03:00</td>\n",
       "      <td>12.3</td>\n",
       "      <td>92</td>\n",
       "      <td>0.0</td>\n",
       "    </tr>\n",
       "    <tr>\n",
       "      <th>4</th>\n",
       "      <td>2022-01-01T04:00</td>\n",
       "      <td>11.9</td>\n",
       "      <td>93</td>\n",
       "      <td>0.0</td>\n",
       "    </tr>\n",
       "  </tbody>\n",
       "</table>\n",
       "</div>"
      ],
      "text/plain": [
       "               time  temperature_2m  relativehumidity_2m  precipitation\n",
       "0  2022-01-01T00:00            12.7                   93            0.0\n",
       "1  2022-01-01T01:00            12.8                   93            0.0\n",
       "2  2022-01-01T02:00            12.5                   93            0.0\n",
       "3  2022-01-01T03:00            12.3                   92            0.0\n",
       "4  2022-01-01T04:00            11.9                   93            0.0"
      ]
     },
     "execution_count": 12,
     "metadata": {},
     "output_type": "execute_result"
    }
   ],
   "source": [
    "data_london = response_london.json()\n",
    "hourly_data = data_london['hourly']\n",
    "\n",
    "df_london = pd.DataFrame(hourly_data)\n",
    "df_london.head()"
   ]
  },
  {
   "cell_type": "code",
   "execution_count": 13,
   "id": "b0e366b5",
   "metadata": {},
   "outputs": [
    {
     "data": {
      "text/html": [
       "<div>\n",
       "<style scoped>\n",
       "    .dataframe tbody tr th:only-of-type {\n",
       "        vertical-align: middle;\n",
       "    }\n",
       "\n",
       "    .dataframe tbody tr th {\n",
       "        vertical-align: top;\n",
       "    }\n",
       "\n",
       "    .dataframe thead th {\n",
       "        text-align: right;\n",
       "    }\n",
       "</style>\n",
       "<table border=\"1\" class=\"dataframe\">\n",
       "  <thead>\n",
       "    <tr style=\"text-align: right;\">\n",
       "      <th></th>\n",
       "      <th>time</th>\n",
       "      <th>temperature_2m</th>\n",
       "      <th>relativehumidity_2m</th>\n",
       "      <th>precipitation</th>\n",
       "    </tr>\n",
       "  </thead>\n",
       "  <tbody>\n",
       "    <tr>\n",
       "      <th>0</th>\n",
       "      <td>2022-01-01T00:00</td>\n",
       "      <td>-6.4</td>\n",
       "      <td>76</td>\n",
       "      <td>0.0</td>\n",
       "    </tr>\n",
       "    <tr>\n",
       "      <th>1</th>\n",
       "      <td>2022-01-01T01:00</td>\n",
       "      <td>-8.3</td>\n",
       "      <td>82</td>\n",
       "      <td>0.0</td>\n",
       "    </tr>\n",
       "    <tr>\n",
       "      <th>2</th>\n",
       "      <td>2022-01-01T02:00</td>\n",
       "      <td>-8.1</td>\n",
       "      <td>82</td>\n",
       "      <td>0.0</td>\n",
       "    </tr>\n",
       "    <tr>\n",
       "      <th>3</th>\n",
       "      <td>2022-01-01T03:00</td>\n",
       "      <td>-7.9</td>\n",
       "      <td>81</td>\n",
       "      <td>0.0</td>\n",
       "    </tr>\n",
       "    <tr>\n",
       "      <th>4</th>\n",
       "      <td>2022-01-01T04:00</td>\n",
       "      <td>-6.2</td>\n",
       "      <td>73</td>\n",
       "      <td>0.0</td>\n",
       "    </tr>\n",
       "  </tbody>\n",
       "</table>\n",
       "</div>"
      ],
      "text/plain": [
       "               time  temperature_2m  relativehumidity_2m  precipitation\n",
       "0  2022-01-01T00:00            -6.4                   76            0.0\n",
       "1  2022-01-01T01:00            -8.3                   82            0.0\n",
       "2  2022-01-01T02:00            -8.1                   82            0.0\n",
       "3  2022-01-01T03:00            -7.9                   81            0.0\n",
       "4  2022-01-01T04:00            -6.2                   73            0.0"
      ]
     },
     "execution_count": 13,
     "metadata": {},
     "output_type": "execute_result"
    }
   ],
   "source": [
    "data_seattle = response_seattle.json()\n",
    "hourly_data = data_seattle['hourly']\n",
    "\n",
    "df_seattle = pd.DataFrame(hourly_data)\n",
    "df_seattle.head()"
   ]
  },
  {
   "cell_type": "markdown",
   "id": "d236c459",
   "metadata": {},
   "source": [
    "convert time columns to datetime objects, and set them as the index"
   ]
  },
  {
   "cell_type": "code",
   "execution_count": 14,
   "id": "a24a2509",
   "metadata": {},
   "outputs": [
    {
     "data": {
      "text/plain": [
       "temperature_2m         0\n",
       "relativehumidity_2m    0\n",
       "precipitation          0\n",
       "dtype: int64"
      ]
     },
     "execution_count": 14,
     "metadata": {},
     "output_type": "execute_result"
    }
   ],
   "source": [
    "df_london['time'] = pd.to_datetime(df_london['time'])\n",
    "df_london.set_index('time', inplace=True)\n",
    "df_london.isnull().sum()\n"
   ]
  },
  {
   "cell_type": "code",
   "execution_count": 15,
   "id": "cf6f5f86",
   "metadata": {},
   "outputs": [
    {
     "data": {
      "text/plain": [
       "temperature_2m         0\n",
       "relativehumidity_2m    0\n",
       "precipitation          0\n",
       "dtype: int64"
      ]
     },
     "execution_count": 15,
     "metadata": {},
     "output_type": "execute_result"
    }
   ],
   "source": [
    "df_seattle['time'] = pd.to_datetime(df_seattle['time'])\n",
    "df_seattle.set_index('time', inplace=True)\n",
    "df_seattle.isnull().sum()"
   ]
  },
  {
   "cell_type": "markdown",
   "id": "55222116",
   "metadata": {},
   "source": [
    "resample hourly data into weekly totals"
   ]
  },
  {
   "cell_type": "code",
   "execution_count": 21,
   "id": "8bf1ce8a",
   "metadata": {},
   "outputs": [],
   "source": [
    "weekly_avg_london = df_london.resample('W').mean()\n",
    "weekly_avg_seattle = df_seattle.resample('W').mean()\n"
   ]
  },
  {
   "cell_type": "code",
   "execution_count": 22,
   "id": "4d782c3e",
   "metadata": {},
   "outputs": [
    {
     "name": "stdout",
     "output_type": "stream",
     "text": [
      "              London   Seattle\n",
      "time                          \n",
      "2022-01-02  0.045833  0.797917\n",
      "2022-01-09  0.076786  0.605952\n",
      "2022-01-16  0.018452  0.270833\n",
      "2022-01-23  0.000000  0.093452\n",
      "2022-01-30  0.002381  0.039286\n"
     ]
    }
   ],
   "source": [
    "# combining dataframes for comparison\n",
    "\n",
    "combined_precip = pd.DataFrame({\n",
    "    'London': weekly_avg_london['precipitation'],\n",
    "    'Seattle': weekly_avg_seattle['precipitation']\n",
    "})\n",
    "print(combined_precip.head())\n"
   ]
  },
  {
   "cell_type": "code",
   "execution_count": 23,
   "id": "364e88a3",
   "metadata": {},
   "outputs": [
    {
     "data": {
      "image/png": "[encoded data removed]",
      "text/plain": [
       "<Figure size 1000x600 with 1 Axes>"
      ]
     },
     "metadata": {},
     "output_type": "display_data"
    }
   ],
   "source": [
    "# plotting weekly total precipitation for both cities on the same graph\n",
    "\n",
    "\n",
    "combined_precip.plot(kind='bar', figsize=(10, 6))\n",
    "plt.title('Weekly Average Precipitation: London vs Seattle')\n",
    "plt.xlabel('Date')\n",
    "plt.ylabel('Precipitation(mm)')\n",
    "plt.xticks(rotation=45)\n",
    "plt.grid(True)\n",
    "plt.show()"
   ]
  },
  {
   "cell_type": "markdown",
   "id": "9dc77c8b",
   "metadata": {},
   "source": [
    "### Analysis\n",
    "\n",
    "Looking at our Weekly Average Temperature plot, we find that Seattle had much more rainfall than London did in 2022. There are significant differences within the winter months. "
   ]
  },
  {
   "cell_type": "code",
   "execution_count": null,
   "id": "22a759f4",
   "metadata": {},
   "outputs": [],
   "source": []
  }
 ],
 "metadata": {
  "kernelspec": {
   "display_name": "Python 3 (ipykernel)",
   "language": "python",
   "name": "python3"
  },
  "language_info": {
   "codemirror_mode": {
    "name": "ipython",
    "version": 3
   },
   "file_extension": ".py",
   "mimetype": "text/x-python",
   "name": "python",
   "nbconvert_exporter": "python",
   "pygments_lexer": "ipython3",
   "version": "3.11.4"
  }
 },
 "nbformat": 4,
 "nbformat_minor": 5
}
